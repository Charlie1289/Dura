{
  "cells": [
    {
      "cell_type": "markdown",
      "metadata": {
        "id": "view-in-github",
        "colab_type": "text"
      },
      "source": [
        "<a href=\"https://colab.research.google.com/github/Charlie1289/Dura/blob/main/Dura.ipynb\" target=\"_parent\"><img src=\"https://colab.research.google.com/assets/colab-badge.svg\" alt=\"Open In Colab\"/></a>"
      ]
    },
    {
      "cell_type": "code",
      "execution_count": null,
      "metadata": {
        "id": "pRYeKlgTLguK",
        "outputId": "358e0d23-4d8f-4daa-f457-b768c41837a2",
        "colab": {
          "base_uri": "https://localhost:8080/",
          "height": 243
        }
      },
      "outputs": [
        {
          "output_type": "stream",
          "name": "stdout",
          "text": [
            "Uploaded file 'Sample drawing' as: https://generativelanguage.googleapis.com/v1beta/files/b6d91k6xxm9l\n",
            "Retrieved file 'Sample drawing' as: https://generativelanguage.googleapis.com/v1beta/files/b6d91k6xxm9l\n",
            "REPUBLIC OF ZIMBABWE\n",
            "NATIONAL REGISTRATION\n",
            "\n",
            "ID Number: 45-190221 E 45 CIT F\n",
            "Surname: CHIMUNDEGE\n",
            "First Name: EXPETROLLECADOLATOR\n",
            "Date of Birth: 03/04/1994\n",
            "Village of Origin: KAJOKOTO\n",
            "Place of Birth: MOUNT DARWIN\n",
            "Date of Issue: 31/05/2013 \n",
            "\n"
          ]
        }
      ],
      "source": [
        "import google.generativeai as genai\n",
        "from google.colab import userdata\n",
        "from google.generativeai.types import HarmCategory, HarmBlockThreshold\n",
        "\n",
        "GOOGLE_API_KEY=userdata.get('API')\n",
        "genai.configure(api_key=GOOGLE_API_KEY)\n",
        "sample_file = genai.upload_file(path=\"test4.jpg\", display_name=\"Sample drawing\")\n",
        "\n",
        "print(f\"Uploaded file '{sample_file.display_name}' as: {sample_file.uri}\")\n",
        "file = genai.get_file(name=sample_file.name)\n",
        "print(f\"Retrieved file '{file.display_name}' as: {sample_file.uri}\")\n",
        "\n",
        "model = genai.GenerativeModel(model_name=\"models/gemini-1.5-pro\")\n",
        "\n",
        "response = model.generate_content(\n",
        "    [\"Retrieve the information from the image.\", sample_file],\n",
        "     safety_settings={\n",
        "        HarmCategory.HARM_CATEGORY_HATE_SPEECH: HarmBlockThreshold.BLOCK_NONE,\n",
        "        HarmCategory.HARM_CATEGORY_HARASSMENT: HarmBlockThreshold.BLOCK_NONE,\n",
        "        HarmCategory.HARM_CATEGORY_SEXUALLY_EXPLICIT: HarmBlockThreshold.BLOCK_NONE,\n",
        "        HarmCategory.HARM_CATEGORY_DANGEROUS_CONTENT: HarmBlockThreshold.BLOCK_NONE,\n",
        "    }\n",
        ")\n",
        "\n",
        "print(response.text)"
      ]
    }
  ],
  "metadata": {
    "kernelspec": {
      "display_name": "Python 3",
      "language": "python",
      "name": "python3"
    },
    "language_info": {
      "codemirror_mode": {
        "name": "ipython",
        "version": 3
      },
      "file_extension": ".py",
      "mimetype": "text/x-python",
      "name": "python",
      "nbconvert_exporter": "python",
      "pygments_lexer": "ipython3",
      "version": "3.10.11"
    },
    "colab": {
      "provenance": [],
      "include_colab_link": true
    }
  },
  "nbformat": 4,
  "nbformat_minor": 0
}